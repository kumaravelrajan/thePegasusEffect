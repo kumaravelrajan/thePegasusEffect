{
 "cells": [
  {
   "cell_type": "code",
   "execution_count": 5,
   "id": "b059e442",
   "metadata": {},
   "outputs": [
    {
     "data": {
      "image/png": "[encoded data removed]",
      "text/plain": [
       "<Figure size 432x288 with 1 Axes>"
      ]
     },
     "metadata": {
      "needs_background": "light"
     },
     "output_type": "display_data"
    },
    {
     "data": {
      "text/plain": [
       "<Figure size 100000x1e+06 with 0 Axes>"
      ]
     },
     "metadata": {},
     "output_type": "display_data"
    }
   ],
   "source": [
    "import os\n",
    "import pandas as pd\n",
    "import matplotlib.pyplot as plt\n",
    "import numpy as np\n",
    "\n",
    "# Using OS library to call CLI commands in Python\n",
    "listOfJournos = [\"ferdi_ayi\", \"khalafroula\", \"bradleyhope\", \"Khadija_Ismayil\", \"svaradarajan\", \n",
    "                 \"edwyplenel\", \"panyiszabolcs\", \"YuririaSierra\", \"Bagiruwubusa\", \"aristeguicnn\", \"vijaita\", \"paranjoygt\", \n",
    "                 \"aboubakrj\", \"LenaBred\", \"mkvenu1\", \"turankislakci\", \"Rosamoussaoui\", \"mariamoukrim\", \"jorgecarrascoa\", \n",
    "                 \"bainjal\", \"alexsicairosr\", \"Smita_Sharma\", \"xanic\", \"icembrero\", \"SushantSin\", \"MarocAmar\", \"marcelaturati\", \n",
    "                 \"carloskeiths\", \"ricardomraphael\", \"iftikhargilani\", \"JasurSumerinli\", \"rohini_sgh\", \"lhan55\", \"alvaro_delgado\"]\n",
    "\n",
    "#for journo in listOfJournos:\n",
    "#for journo in listOfJournos:\n",
    "#    os.system(\"snscrape --jsonl --since 2015-01-01 twitter-search \\\"from:\" + journo + \" until:2021-12-2\\\" > \" + journo + \"-query-tweets.json\")\n",
    "\n",
    "journo = \"svaradarajan\"\n",
    "\n",
    "# Reads the json generated from the CLI commands above and creates a pandas dataframe\n",
    "journo_tweets_df = pd.read_json(journo + '-query-tweets.json', lines=True)\n",
    "sample = journo_tweets_df['date']\n",
    "samplelist = list(sample)\n",
    "sampledict = {}\n",
    "\n",
    "for timestamp in samplelist:\n",
    "    key = str(timestamp.year) + \"-\" + str(timestamp.month) # str(timestamp.year) + \"-\" + timestamp.month_name()\n",
    "    if(sampledict.get(key) == None):\n",
    "        sampledict[key] = 1\n",
    "    else:\n",
    "        sampledict[key] += 1\n",
    "#print(sampledict.keys())\n",
    "#print(sampledict.values())\n",
    "plt.title(\"Number of tweets by \" + journo + \" per month in 2021\")\n",
    "plt.xlabel('Months')\n",
    "plt.ylabel('Number of tweets')\n",
    "plt.xticks(rotation=\"vertical\")\n",
    "plt.bar(sampledict.keys(), sampledict.values())\n",
    "plt.figure(figsize=(200,2000), dpi=500)\n",
    "plt.show()"
   ]
  },
  {
   "cell_type": "code",
   "execution_count": null,
   "id": "32468928",
   "metadata": {},
   "outputs": [],
   "source": []
  }
 ],
 "metadata": {
  "kernelspec": {
   "display_name": "Python 3 (ipykernel)",
   "language": "python",
   "name": "python3"
  },
  "language_info": {
   "codemirror_mode": {
    "name": "ipython",
    "version": 3
   },
   "file_extension": ".py",
   "mimetype": "text/x-python",
   "name": "python",
   "nbconvert_exporter": "python",
   "pygments_lexer": "ipython3",
   "version": "3.8.10"
  }
 },
 "nbformat": 4,
 "nbformat_minor": 5
}
